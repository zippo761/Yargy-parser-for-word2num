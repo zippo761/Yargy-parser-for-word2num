{
 "cells": [
  {
   "cell_type": "markdown",
   "id": "8e9cc7eb",
   "metadata": {},
   "source": [
    "# Парсер параметров в тексте и преобразование в числовой вид"
   ]
  },
  {
   "cell_type": "markdown",
   "id": "c4a4f1bb",
   "metadata": {},
   "source": [
    "### Установка Yargy"
   ]
  },
  {
   "cell_type": "code",
   "execution_count": 14,
   "id": "cf4e3747",
   "metadata": {},
   "outputs": [],
   "source": [
    "#!pip install yargy"
   ]
  },
  {
   "cell_type": "markdown",
   "id": "fe8c541b",
   "metadata": {},
   "source": [
    "# Импорт"
   ]
  },
  {
   "cell_type": "code",
   "execution_count": 2,
   "id": "5f4af5f9",
   "metadata": {},
   "outputs": [],
   "source": [
    "from yargy.interpretation import fact\n",
    "from yargy import (\n",
    "    Parser,\n",
    "    rule\n",
    ")\n",
    "from yargy.predicates import (\n",
    "    normalized,\n",
    "    dictionary\n",
    ")\n",
    "from yargy.pipelines import morph_pipeline\n",
    "import re"
   ]
  },
  {
   "cell_type": "markdown",
   "id": "b22fc248",
   "metadata": {},
   "source": [
    "### Текст с которым будем работать"
   ]
  },
  {
   "cell_type": "code",
   "execution_count": 8,
   "id": "9982184b",
   "metadata": {},
   "outputs": [],
   "source": [
    "text = \"\"\"vдобрый день представьтесь пожалуйста меня зовут иван иванов я представляю компанию ооо триал согласно соглашению номер восемьсот пятьдесят семь пятого марта две тысячи двадцатого года дата сделки сегодня первое января две тысячи двадцать второго года начала действия сделки сегодня окончание действия сделки первого марта две тысячи двадцать пятого года на сумму один миллион рублей\"\"\""
   ]
  },
  {
   "cell_type": "markdown",
   "id": "e726623b",
   "metadata": {},
   "source": [
    "### Предподготовка текста и поиск фрагмента "
   ]
  },
  {
   "cell_type": "code",
   "execution_count": 9,
   "id": "24004d5b",
   "metadata": {},
   "outputs": [],
   "source": [
    "def preprocess(text):\n",
    "    text = text.replace('\\n', ' ')\n",
    "    text = find_section(text)\n",
    "    return text\n",
    "\n",
    "def find_section(text):\n",
    "    res = []\n",
    "    result = re.finditer('соглашени[еяю]\\s', text)\n",
    "    for el in result:\n",
    "        res.append(text[el.start()-10:el.end()+45])\n",
    "    return res \n",
    "\n",
    "line = preprocess(text)"
   ]
  },
  {
   "cell_type": "markdown",
   "id": "30a17b2e",
   "metadata": {},
   "source": [
    "### Теперь создаем правила для Yargy"
   ]
  },
  {
   "cell_type": "code",
   "execution_count": 10,
   "id": "b4189e3d",
   "metadata": {},
   "outputs": [],
   "source": [
    "Number = fact(\n",
    "    'number',\n",
    "    ['num1', 'num2', 'num3', 'flag']\n",
    ")\n",
    "\n",
    "DIGIT_NUM1 = {\n",
    "    'один': 1,\n",
    "    'два': 2,\n",
    "    'три': 3,\n",
    "    'четыре': 4,\n",
    "    'пять': 5,\n",
    "    'шесть': 6,\n",
    "    'семь': 7,\n",
    "    'восемь': 8,\n",
    "    'девять': 9,\n",
    "    'сто': 100,\n",
    "    'двести': 200,\n",
    "    'триста': 300,\n",
    "    'четыреста': 400,\n",
    "    'пятьсот': 500,\n",
    "    'шестьсот': 600,\n",
    "    'семьсот': 700,\n",
    "    'восемьсот': 800,\n",
    "    'девятьсот': 900\n",
    "}\n",
    "\n",
    "DIGIT_NAME_NUM1 = dictionary(\n",
    "    DIGIT_NUM1\n",
    ")\n",
    "\n",
    "DIGIT_NUM2 = {\n",
    "    'один': 1,\n",
    "    'два': 2,\n",
    "    'три': 3,\n",
    "    'четыре': 4,\n",
    "    'пять': 5,\n",
    "    'шесть': 6,\n",
    "    'семь': 7,\n",
    "    'восемь': 8,\n",
    "    'девять': 9,\n",
    "    'десять': 10,\n",
    "    'одиннадцать': 11,\n",
    "    'двенадцать': 12,\n",
    "    'тринадцать': 13,\n",
    "    'четырнадцать': 14,\n",
    "    'пятнадцать': 15,\n",
    "    'шестнадцать': 16,\n",
    "    'семнадцать': 17,\n",
    "    'восемнадцать': 18,\n",
    "    'девятнадцать': 19,\n",
    "    'двадцать': 20,\n",
    "    'тридцать': 30,\n",
    "    'сорок': 40,\n",
    "    'пятьдесят': 50,\n",
    "    'шестьдесят': 60,\n",
    "    'семьдесят': 70,\n",
    "    'восемьдесят': 80,\n",
    "    'девяносто': 90\n",
    "}\n",
    "\n",
    "DIGIT_NAME_NUM2 = dictionary(\n",
    "    DIGIT_NUM2\n",
    ")\n",
    "\n",
    "DIGIT_NUM3 = {\n",
    "    'один': 1,\n",
    "    'два': 2,\n",
    "    'три': 3,\n",
    "    'четыре': 4,\n",
    "    'пять': 5,\n",
    "    'шесть': 6,\n",
    "    'семь': 7,\n",
    "    'восемь': 8,\n",
    "    'девять': 9\n",
    "}\n",
    "\n",
    "DIGIT_NAME_NUM3 = dictionary(\n",
    "    DIGIT_NUM3\n",
    ")\n",
    "\n",
    "MONTH_NAME = morph_pipeline([\n",
    "    'январь',\n",
    "    'февраль',\n",
    "    'март',\n",
    "    'апрель',\n",
    "    'май',\n",
    "    'июнь',\n",
    "    'июль',\n",
    "    'август',\n",
    "    'сентябрь',\n",
    "    'октябрь',\n",
    "    'ноябрь',\n",
    "    'декабрь'\n",
    "]).interpretation(Number.flag)\n",
    "\n",
    "RULE = rule(\n",
    "    normalized('соглашение'),\n",
    "    normalized('номер').optional(),\n",
    "    DIGIT_NAME_NUM1.interpretation(Number.num1.normalized().custom(DIGIT_NUM1.get)),\n",
    "    DIGIT_NAME_NUM2.interpretation(Number.num2.normalized().custom(DIGIT_NUM2.get)).optional(),\n",
    "    DIGIT_NAME_NUM3.interpretation(Number.num3.normalized().custom(DIGIT_NUM3.get)).optional(),\n",
    "    MONTH_NAME.optional()\n",
    ").interpretation(\n",
    "    Number\n",
    ")\n"
   ]
  },
  {
   "cell_type": "markdown",
   "id": "4cc7d73a",
   "metadata": {},
   "source": [
    "### Токены"
   ]
  },
  {
   "cell_type": "code",
   "execution_count": 11,
   "id": "4587e7d7",
   "metadata": {},
   "outputs": [
    {
     "data": {
      "text/plain": [
       "[Match(\n",
       "     tokens=[MorphToken(\n",
       "          value='соглашению',\n",
       "          span=[103, 113),\n",
       "          type='RU',\n",
       "          forms=[Form('соглашение', Grams(NOUN,datv,inan,neut,sing))]\n",
       "      ),\n",
       "      MorphToken(\n",
       "          value='номер',\n",
       "          span=[114, 119),\n",
       "          type='RU',\n",
       "          forms=[Form('номер', Grams(NOUN,inan,masc,nomn,sing)),\n",
       "           Form('номер', Grams(NOUN,accs,inan,masc,sing))]\n",
       "      ),\n",
       "      MorphToken(\n",
       "          value='восемьсот',\n",
       "          span=[120, 129),\n",
       "          type='RU',\n",
       "          forms=[Form('восемьсот', Grams(NUMR,nomn)),\n",
       "           Form('восемьсот', Grams(NUMR,accs))]\n",
       "      ),\n",
       "      MorphToken(\n",
       "          value='пятьдесят',\n",
       "          span=[130, 139),\n",
       "          type='RU',\n",
       "          forms=[Form('пятьдесят', Grams(NUMR,nomn)),\n",
       "           Form('пятьдесят', Grams(NUMR,accs))]\n",
       "      ),\n",
       "      MorphToken(\n",
       "          value='семь',\n",
       "          span=[140, 144),\n",
       "          type='RU',\n",
       "          forms=[Form('семь', Grams(NUMR,nomn)),\n",
       "           Form('семь', Grams(NUMR,accs))]\n",
       "      )],\n",
       "     span=[103, 144)\n",
       " )]"
      ]
     },
     "execution_count": 11,
     "metadata": {},
     "output_type": "execute_result"
    }
   ],
   "source": [
    "parser = Parser(RULE)\n",
    "matches = list(parser.findall(text))\n",
    "matches"
   ]
  },
  {
   "cell_type": "markdown",
   "id": "e51f6f78",
   "metadata": {},
   "source": [
    "### Значения которые извлеклись и преобразовались"
   ]
  },
  {
   "cell_type": "code",
   "execution_count": 23,
   "id": "2e75d2a2",
   "metadata": {},
   "outputs": [
    {
     "data": {
      "text/plain": [
       "[number(\n",
       "     num1=800,\n",
       "     num2=50,\n",
       "     num3=7,\n",
       "     flag=None\n",
       " )]"
      ]
     },
     "execution_count": 23,
     "metadata": {},
     "output_type": "execute_result"
    }
   ],
   "source": [
    "facts = [_.fact for _ in matches]\n",
    "\n",
    "facts"
   ]
  },
  {
   "cell_type": "markdown",
   "id": "28a6600e",
   "metadata": {},
   "source": [
    "### Извлечем и преобразуем числа"
   ]
  },
  {
   "cell_type": "code",
   "execution_count": 24,
   "id": "d7592cc8",
   "metadata": {},
   "outputs": [
    {
     "data": {
      "text/plain": [
       "'857'"
      ]
     },
     "execution_count": 24,
     "metadata": {},
     "output_type": "execute_result"
    }
   ],
   "source": [
    "def extractor(text):\n",
    "    fraction = preprocess(text)\n",
    "    for el in fraction:\n",
    "        matches = parser.findall(el)\n",
    "        if matches:\n",
    "            result = []\n",
    "            res = []\n",
    "            facts = [_.fact for _ in matches]\n",
    "            for f in facts:\n",
    "                res += [f.num1, f.num2, f.num3]\n",
    "                res = [int(i) for i in res if i]\n",
    "                if len(res) == 1:\n",
    "                    result.append(f.num1)\n",
    "                elif len(res) == 2:\n",
    "                    if f.flag:\n",
    "                        result.append(res[0])\n",
    "                    else:\n",
    "                        result.append(f\"{res[0]+res[1]}\")\n",
    "                elif len(res)==3 and res[0]<10 and res[1]<10 and res[2]<10 and not f.flag:\n",
    "                    digit = f\"{res[0]}{res[1]}{res[2]}\"\n",
    "                    result.append(int(digit))\n",
    "                elif len(res)==3:\n",
    "                    if f.flag:\n",
    "                        result.append(f\"{res[0]+res[1]}\")\n",
    "                    else:\n",
    "                        result.append(f\"{res[0]+res[1]+res[2]}\")\n",
    "            return ''.join(result)\n",
    "        else:\n",
    "            return ''\n",
    "     \n",
    "        \n",
    "extractor(text)"
   ]
  },
  {
   "cell_type": "code",
   "execution_count": null,
   "id": "e250aef4",
   "metadata": {},
   "outputs": [],
   "source": []
  }
 ],
 "metadata": {
  "kernelspec": {
   "display_name": "py33",
   "language": "python",
   "name": "py33"
  },
  "language_info": {
   "codemirror_mode": {
    "name": "ipython",
    "version": 3
   },
   "file_extension": ".py",
   "mimetype": "text/x-python",
   "name": "python",
   "nbconvert_exporter": "python",
   "pygments_lexer": "ipython3",
   "version": "3.9.7"
  },
  "varInspector": {
   "cols": {
    "lenName": 16,
    "lenType": 16,
    "lenVar": 40
   },
   "kernels_config": {
    "python": {
     "delete_cmd_postfix": "",
     "delete_cmd_prefix": "del ",
     "library": "var_list.py",
     "varRefreshCmd": "print(var_dic_list())"
    },
    "r": {
     "delete_cmd_postfix": ") ",
     "delete_cmd_prefix": "rm(",
     "library": "var_list.r",
     "varRefreshCmd": "cat(var_dic_list()) "
    }
   },
   "types_to_exclude": [
    "module",
    "function",
    "builtin_function_or_method",
    "instance",
    "_Feature"
   ],
   "window_display": false
  }
 },
 "nbformat": 4,
 "nbformat_minor": 5
}
